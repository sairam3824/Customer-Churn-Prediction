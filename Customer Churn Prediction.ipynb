{
  "nbformat": 4,
  "nbformat_minor": 0,
  "metadata": {
    "colab": {
      "provenance": []
    },
    "kernelspec": {
      "name": "python3",
      "display_name": "Python 3"
    },
    "language_info": {
      "name": "python"
    }
  },
  "cells": [
    {
      "cell_type": "code",
      "source": [
        "!pip install pandas scikit-learn matplotlib seaborn"
      ],
      "metadata": {
        "colab": {
          "base_uri": "https://localhost:8080/"
        },
        "id": "-4T82-S0avPS",
        "outputId": "609a3020-d2f6-42e0-ad49-269ed573e2d2"
      },
      "execution_count": null,
      "outputs": [
        {
          "output_type": "stream",
          "name": "stdout",
          "text": [
            "Requirement already satisfied: pandas in /usr/local/lib/python3.10/dist-packages (2.2.2)\n",
            "Requirement already satisfied: scikit-learn in /usr/local/lib/python3.10/dist-packages (1.5.2)\n",
            "Requirement already satisfied: matplotlib in /usr/local/lib/python3.10/dist-packages (3.7.1)\n",
            "Requirement already satisfied: seaborn in /usr/local/lib/python3.10/dist-packages (0.13.2)\n",
            "Requirement already satisfied: numpy>=1.22.4 in /usr/local/lib/python3.10/dist-packages (from pandas) (1.26.4)\n",
            "Requirement already satisfied: python-dateutil>=2.8.2 in /usr/local/lib/python3.10/dist-packages (from pandas) (2.8.2)\n",
            "Requirement already satisfied: pytz>=2020.1 in /usr/local/lib/python3.10/dist-packages (from pandas) (2024.2)\n",
            "Requirement already satisfied: tzdata>=2022.7 in /usr/local/lib/python3.10/dist-packages (from pandas) (2024.2)\n",
            "Requirement already satisfied: scipy>=1.6.0 in /usr/local/lib/python3.10/dist-packages (from scikit-learn) (1.13.1)\n",
            "Requirement already satisfied: joblib>=1.2.0 in /usr/local/lib/python3.10/dist-packages (from scikit-learn) (1.4.2)\n",
            "Requirement already satisfied: threadpoolctl>=3.1.0 in /usr/local/lib/python3.10/dist-packages (from scikit-learn) (3.5.0)\n",
            "Requirement already satisfied: contourpy>=1.0.1 in /usr/local/lib/python3.10/dist-packages (from matplotlib) (1.3.0)\n",
            "Requirement already satisfied: cycler>=0.10 in /usr/local/lib/python3.10/dist-packages (from matplotlib) (0.12.1)\n",
            "Requirement already satisfied: fonttools>=4.22.0 in /usr/local/lib/python3.10/dist-packages (from matplotlib) (4.54.1)\n",
            "Requirement already satisfied: kiwisolver>=1.0.1 in /usr/local/lib/python3.10/dist-packages (from matplotlib) (1.4.7)\n",
            "Requirement already satisfied: packaging>=20.0 in /usr/local/lib/python3.10/dist-packages (from matplotlib) (24.1)\n",
            "Requirement already satisfied: pillow>=6.2.0 in /usr/local/lib/python3.10/dist-packages (from matplotlib) (10.4.0)\n",
            "Requirement already satisfied: pyparsing>=2.3.1 in /usr/local/lib/python3.10/dist-packages (from matplotlib) (3.2.0)\n",
            "Requirement already satisfied: six>=1.5 in /usr/local/lib/python3.10/dist-packages (from python-dateutil>=2.8.2->pandas) (1.16.0)\n"
          ]
        }
      ]
    },
    {
      "cell_type": "markdown",
      "source": [
        "Random forest Model"
      ],
      "metadata": {
        "id": "EmrVd8qugooL"
      }
    },
    {
      "cell_type": "code",
      "source": [
        "import pandas as pd\n",
        "from sklearn.model_selection import train_test_split\n",
        "from sklearn.ensemble import RandomForestClassifier\n",
        "from sklearn.metrics import accuracy_score, classification_report, confusion_matrix\n",
        "from google.colab import drive\n",
        "\n",
        "# Step 1: Data Preparation\n",
        "# Mount Google Drive and load file\n",
        "drive.mount('/content/drive')\n",
        "data = pd.read_csv('/content/drive/My Drive/Customer-Churn-Records.csv')\n",
        "\n",
        "# Preprocessing (handle missing values, encode categorical variables, etc.)\n",
        "# ...\n",
        "\n",
        "data = data.drop([\"RowNumber\", \"CustomerId\", \"Surname\",\"Geography\",\"Gender\", \"Card Type\"], axis = 1)\n",
        "\n",
        "# Step 2: Data Splitting\n",
        "X = data.drop('Exited', axis=1)  # Features\n",
        "y = data['Exited']  # Target variable (Churn status)\n",
        "\n",
        "# print(data)\n",
        "\n",
        "X_train, X_test, y_train, y_test = train_test_split(X, y, test_size=0.2, random_state=42)\n",
        "\n",
        "# Step 4: Create the Random Forest Model\n",
        "# Initialize the Random Forest classifier with appropriate hyperparameters\n",
        "rf_model = RandomForestClassifier(n_estimators=100, max_depth=10, random_state=42)\n",
        "\n",
        "# Fit the model on the training data\n",
        "rf_model.fit(X_train, y_train)\n",
        "\n",
        "# Step 5: Make Predictions\n",
        "y_pred = rf_model.predict(X_test)\n",
        "\n",
        "# Step 6: Evaluate the Model\n",
        "accuracy = accuracy_score(y_test, y_pred)\n",
        "confusion_matrix = confusion_matrix(y_test, y_pred)\n",
        "classification_rep = classification_report(y_test, y_pred)\n",
        "\n",
        "print(f\"Accuracy: {accuracy}\")\n",
        "print(\"Confusion Matrix:\")\n",
        "print(confusion_matrix)\n",
        "print(\"Classification Report:\")\n",
        "print(classification_rep)"
      ],
      "metadata": {
        "colab": {
          "base_uri": "https://localhost:8080/"
        },
        "id": "0V42zgaOgqmu",
        "outputId": "4085b082-9512-4dac-e031-2c84aac3f194"
      },
      "execution_count": null,
      "outputs": [
        {
          "output_type": "stream",
          "name": "stdout",
          "text": [
            "Mounted at /content/drive\n",
            "Accuracy: 0.999\n",
            "Confusion Matrix:\n",
            "[[1606    1]\n",
            " [   1  392]]\n",
            "Classification Report:\n",
            "              precision    recall  f1-score   support\n",
            "\n",
            "           0       1.00      1.00      1.00      1607\n",
            "           1       1.00      1.00      1.00       393\n",
            "\n",
            "    accuracy                           1.00      2000\n",
            "   macro avg       1.00      1.00      1.00      2000\n",
            "weighted avg       1.00      1.00      1.00      2000\n",
            "\n"
          ]
        }
      ]
    },
    {
      "cell_type": "markdown",
      "source": [
        "Support vector machine (SVM)"
      ],
      "metadata": {
        "id": "TIfY_aQkfYzl"
      }
    },
    {
      "cell_type": "code",
      "source": [
        "# Step 1: Import necessary libraries\n",
        "import pandas as pd\n",
        "from sklearn.model_selection import train_test_split\n",
        "from sklearn.svm import SVC\n",
        "from sklearn.metrics import accuracy_score, classifihcation_report, confusion_matrix\n",
        "from google.colab import drive\n",
        "\n",
        "# Step 2: Mount Google Drive\n",
        "drive.mount('/content/drive')\n",
        "\n",
        "# Step 3: Load the dataset\n",
        "data = pd.read_csv('/content/drive/My Drive/Customer-Churn-Records.csv')\n",
        "\n",
        "# Step 4: Data Preparation\n",
        "# Drop unnecessary columns\n",
        "data = data.drop([\"RowNumber\", \"CustomerId\", \"Surname\", \"Geography\", \"Gender\", \"Card Type\"], axis=1)\n",
        "\n",
        "# Handle missing values if necessary (example: fill with mean for numeric columns)\n",
        "# data.fillna(data.mean(), inplace=True)\n",
        "\n",
        "# Step 5: Data Splitting\n",
        "X = data.drop('Exited', axis=1)  # Features\n",
        "y = data['Exited']  # Target variable (Churn status)\n",
        "\n",
        "X_train, X_test, y_train, y_test = train_test_split(X, y, test_size=0.2, random_state=42)\n",
        "\n",
        "# Step 6: Create the SVM Model\n",
        "svm_model = SVC(kernel='linear', random_state=42)\n",
        "\n",
        "# Fit the model on the training data\n",
        "svm_model.fit(X_train, y_train)\n",
        "\n",
        "# Step 7: Make Predictions\n",
        "y_pred = svm_model.predict(X_test)\n",
        "\n",
        "# Step 8: Evaluate the Model\n",
        "accuracy = accuracy_score(y_test, y_pred)\n",
        "confusion_mat = confusion_matrix(y_test, y_pred)\n",
        "classification_rep = classification_report(y_test, y_pred)\n",
        "\n",
        "# Print results\n",
        "print(f\"Accuracy: {accuracy}\")\n",
        "print(\"Confusion Matrix:\")\n",
        "print(confusion_mat)\n",
        "print(\"Classification Report:\")\n",
        "print(classification_rep)\n"
      ],
      "metadata": {
        "colab": {
          "base_uri": "https://localhost:8080/"
        },
        "id": "drTnduy1bUBQ",
        "outputId": "f26122e6-82ce-43fe-e41f-d218ed011bae"
      },
      "execution_count": null,
      "outputs": [
        {
          "output_type": "stream",
          "name": "stdout",
          "text": [
            "Drive already mounted at /content/drive; to attempt to forcibly remount, call drive.mount(\"/content/drive\", force_remount=True).\n",
            "Accuracy: 0.797\n",
            "Confusion Matrix:\n",
            "[[1570   37]\n",
            " [ 369   24]]\n",
            "Classification Report:\n",
            "              precision    recall  f1-score   support\n",
            "\n",
            "           0       0.81      0.98      0.89      1607\n",
            "           1       0.39      0.06      0.11       393\n",
            "\n",
            "    accuracy                           0.80      2000\n",
            "   macro avg       0.60      0.52      0.50      2000\n",
            "weighted avg       0.73      0.80      0.73      2000\n",
            "\n"
          ]
        }
      ]
    },
    {
      "cell_type": "markdown",
      "source": [
        "Decision Tree Classifier"
      ],
      "metadata": {
        "id": "0CbkRV1SjQOH"
      }
    },
    {
      "cell_type": "code",
      "source": [
        "import pandas as pd\n",
        "from sklearn.model_selection import train_test_split\n",
        "from sklearn.tree import DecisionTreeClassifier\n",
        "from sklearn.metrics import accuracy_score, classification_report, confusion_matrix\n",
        "from google.colab import drive\n",
        "\n",
        "# Step 1: Data Preparation\n",
        "# Mount Google Drive and load file\n",
        "drive.mount('/content/drive')\n",
        "data = pd.read_csv('/content/drive/My Drive/Customer-Churn-Records.csv')\n",
        "\n",
        "# Check the columns of the DataFrame\n",
        "print(\"Columns in the dataset:\", data.columns)\n",
        "\n",
        "# Preprocessing (handle missing values, encode categorical variables, etc.)\n",
        "data = data.dropna()  # Drop rows with missing values\n",
        "data = pd.get_dummies(data, drop_first=True)  # Encode categorical variables\n",
        "\n",
        "# Drop unnecessary columns if they exist\n",
        "columns_to_drop = [\"RowNumber\", \"CustomerId\", \"Surname\"]\n",
        "data = data.drop(columns=[col for col in columns_to_drop if col in data.columns], axis=1)\n",
        "\n",
        "# Step 2: Data Splitting\n",
        "X = data.drop('Exited', axis=1)  # Features\n",
        "y = data['Exited']  # Target variable (Churn status)\n",
        "\n",
        "# Splitting the data into training and testing sets\n",
        "X_train, X_test, y_train, y_test = train_test_split(X, y, test_size=0.2, random_state=42)\n",
        "\n",
        "# Step 3: Create and Evaluate the Decision Tree Model\n",
        "dt_model = DecisionTreeClassifier(max_depth=10, random_state=42)\n",
        "dt_model.fit(X_train, y_train)\n",
        "y_pred_dt = dt_model.predict(X_test)\n",
        "\n",
        "# Evaluate Decision Tree Model\n",
        "accuracy_dt = accuracy_score(y_test, y_pred_dt)\n",
        "confusion_matrix_dt = confusion_matrix(y_test, y_pred_dt)\n",
        "classification_rep_dt = classification_report(y_test, y_pred_dt)\n",
        "\n",
        "print(f\"Decision Tree Accuracy: {accuracy_dt}\")\n",
        "print(\"Decision Tree Confusion Matrix:\")\n",
        "print(confusion_matrix_dt)\n",
        "print(\"Decision Tree Classification Report:\")\n",
        "print(classification_rep_dt)\n"
      ],
      "metadata": {
        "colab": {
          "base_uri": "https://localhost:8080/"
        },
        "id": "w3quhJ7mjRLC",
        "outputId": "455eb312-cf39-4644-c836-b71719ef436d"
      },
      "execution_count": null,
      "outputs": [
        {
          "output_type": "stream",
          "name": "stdout",
          "text": [
            "Mounted at /content/drive\n",
            "Columns in the dataset: Index(['RowNumber', 'CustomerId', 'Surname', 'CreditScore', 'Geography',\n",
            "       'Gender', 'Age', 'Tenure', 'Balance', 'NumOfProducts', 'HasCrCard',\n",
            "       'IsActiveMember', 'EstimatedSalary', 'Exited', 'Complain',\n",
            "       'Satisfaction Score', 'Card Type', 'Point Earned'],\n",
            "      dtype='object')\n",
            "Decision Tree Accuracy: 0.9985\n",
            "Decision Tree Confusion Matrix:\n",
            "[[1606    1]\n",
            " [   2  391]]\n",
            "Decision Tree Classification Report:\n",
            "              precision    recall  f1-score   support\n",
            "\n",
            "           0       1.00      1.00      1.00      1607\n",
            "           1       1.00      0.99      1.00       393\n",
            "\n",
            "    accuracy                           1.00      2000\n",
            "   macro avg       1.00      1.00      1.00      2000\n",
            "weighted avg       1.00      1.00      1.00      2000\n",
            "\n"
          ]
        }
      ]
    },
    {
      "cell_type": "markdown",
      "source": [
        "Logistic Regression"
      ],
      "metadata": {
        "id": "GQw5HpPrjTwG"
      }
    },
    {
      "cell_type": "code",
      "source": [
        "import pandas as pd\n",
        "from sklearn.model_selection import train_test_split\n",
        "from sklearn.linear_model import LogisticRegression\n",
        "from sklearn.metrics import accuracy_score, classification_report, confusion_matrix\n",
        "from google.colab import drive\n",
        "\n",
        "# Step 1: Data Preparation\n",
        "# Mount Google Drive and load file\n",
        "drive.mount('/content/drive')\n",
        "data = pd.read_csv('/content/drive/My Drive/Customer-Churn-Records.csv')\n",
        "\n",
        "# Check the columns of the DataFrame\n",
        "print(\"Columns in the dataset:\", data.columns)\n",
        "\n",
        "# Preprocessing (handle missing values, encode categorical variables, etc.)\n",
        "data = data.dropna()  # Drop rows with missing values\n",
        "data = pd.get_dummies(data, drop_first=True)  # Encode categorical variables\n",
        "\n",
        "# Drop unnecessary columns if they exist\n",
        "columns_to_drop = [\"RowNumber\", \"CustomerId\", \"Surname\"]\n",
        "data = data.drop(columns=[col for col in columns_to_drop if col in data.columns], axis=1)\n",
        "\n",
        "# Step 2: Data Splitting\n",
        "X = data.drop('Exited', axis=1)  # Features\n",
        "y = data['Exited']  # Target variable (Churn status)\n",
        "\n",
        "# Splitting the data into training and testing sets\n",
        "X_train, X_test, y_train, y_test = train_test_split(X, y, test_size=0.2, random_state=42)\n",
        "\n",
        "# Step 3: Create and Evaluate the Logistic Regression Model\n",
        "lr_model = LogisticRegression(max_iter=1000, random_state=42)\n",
        "lr_model.fit(X_train, y_train)\n",
        "y_pred_lr = lr_model.predict(X_test)\n",
        "\n",
        "# Evaluate Logistic Regression Model\n",
        "accuracy_lr = accuracy_score(y_test, y_pred_lr)\n",
        "confusion_matrix_lr = confusion_matrix(y_test, y_pred_lr)\n",
        "classification_rep_lr = classification_report(y_test, y_pred_lr)\n",
        "\n",
        "print(f\"Logistic Regression Accuracy: {accuracy_lr}\")\n",
        "print(\"Logistic Regression Confusion Matrix:\")\n",
        "print(confusion_matrix_lr)\n",
        "print(\"Logistic Regression Classification Report:\")\n",
        "print(classification_rep_lr)\n"
      ],
      "metadata": {
        "colab": {
          "base_uri": "https://localhost:8080/"
        },
        "id": "J59Z2cGUjd5S",
        "outputId": "abbbc519-f03a-4d68-ad1e-31461e659eab"
      },
      "execution_count": null,
      "outputs": [
        {
          "output_type": "stream",
          "name": "stdout",
          "text": [
            "Drive already mounted at /content/drive; to attempt to forcibly remount, call drive.mount(\"/content/drive\", force_remount=True).\n",
            "Columns in the dataset: Index(['RowNumber', 'CustomerId', 'Surname', 'CreditScore', 'Geography',\n",
            "       'Gender', 'Age', 'Tenure', 'Balance', 'NumOfProducts', 'HasCrCard',\n",
            "       'IsActiveMember', 'EstimatedSalary', 'Exited', 'Complain',\n",
            "       'Satisfaction Score', 'Card Type', 'Point Earned'],\n",
            "      dtype='object')\n",
            "Logistic Regression Accuracy: 0.9985\n",
            "Logistic Regression Confusion Matrix:\n",
            "[[1606    1]\n",
            " [   2  391]]\n",
            "Logistic Regression Classification Report:\n",
            "              precision    recall  f1-score   support\n",
            "\n",
            "           0       1.00      1.00      1.00      1607\n",
            "           1       1.00      0.99      1.00       393\n",
            "\n",
            "    accuracy                           1.00      2000\n",
            "   macro avg       1.00      1.00      1.00      2000\n",
            "weighted avg       1.00      1.00      1.00      2000\n",
            "\n"
          ]
        },
        {
          "output_type": "stream",
          "name": "stderr",
          "text": [
            "/usr/local/lib/python3.10/dist-packages/sklearn/linear_model/_logistic.py:469: ConvergenceWarning: lbfgs failed to converge (status=1):\n",
            "STOP: TOTAL NO. of ITERATIONS REACHED LIMIT.\n",
            "\n",
            "Increase the number of iterations (max_iter) or scale the data as shown in:\n",
            "    https://scikit-learn.org/stable/modules/preprocessing.html\n",
            "Please also refer to the documentation for alternative solver options:\n",
            "    https://scikit-learn.org/stable/modules/linear_model.html#logistic-regression\n",
            "  n_iter_i = _check_optimize_result(\n"
          ]
        }
      ]
    },
    {
      "cell_type": "markdown",
      "source": [
        "XGBoost"
      ],
      "metadata": {
        "id": "Pm9PebDElHoS"
      }
    },
    {
      "cell_type": "code",
      "source": [
        "!pip install xgboost"
      ],
      "metadata": {
        "colab": {
          "base_uri": "https://localhost:8080/"
        },
        "id": "RjQJHmd6lIGm",
        "outputId": "73f3ea0a-57e4-4a0a-d91e-51f76d26f276"
      },
      "execution_count": null,
      "outputs": [
        {
          "output_type": "stream",
          "name": "stdout",
          "text": [
            "Requirement already satisfied: xgboost in /usr/local/lib/python3.10/dist-packages (2.1.1)\n",
            "Requirement already satisfied: numpy in /usr/local/lib/python3.10/dist-packages (from xgboost) (1.26.4)\n",
            "Requirement already satisfied: nvidia-nccl-cu12 in /usr/local/lib/python3.10/dist-packages (from xgboost) (2.23.4)\n",
            "Requirement already satisfied: scipy in /usr/local/lib/python3.10/dist-packages (from xgboost) (1.13.1)\n"
          ]
        }
      ]
    },
    {
      "cell_type": "code",
      "source": [
        "# Step 1: Import necessary libraries\n",
        "import pandas as pd\n",
        "from sklearn.model_selection import train_test_split\n",
        "from xgboost import XGBClassifier\n",
        "from sklearn.metrics import accuracy_score, classification_report, confusion_matrix\n",
        "from google.colab import drive\n",
        "\n",
        "# Step 2: Mount Google Drive\n",
        "drive.mount('/content/drive')\n",
        "\n",
        "# Step 3: Load the dataset\n",
        "data = pd.read_csv('/content/drive/My Drive/Customer-Churn-Records.csv')\n",
        "\n",
        "# Step 4: Data Preparation\n",
        "# Drop unnecessary columns\n",
        "data = data.drop([\"RowNumber\", \"CustomerId\", \"Surname\", \"Geography\", \"Gender\", \"Card Type\"], axis=1)\n",
        "\n",
        "# Step 5: Data Splitting\n",
        "X = data.drop('Exited', axis=1)  # Features\n",
        "y = data['Exited']  # Target variable (Churn status)\n",
        "\n",
        "X_train, X_test, y_train, y_test = train_test_split(X, y, test_size=0.2, random_state=42)\n",
        "\n",
        "# Step 6: Create the XGBoost Model\n",
        "xgb_model = XGBClassifier(use_label_encoder=False, eval_metric='logloss', random_state=42)\n",
        "\n",
        "# Fit the model on the training data\n",
        "xgb_model.fit(X_train, y_train)\n",
        "\n",
        "# Step 7: Make Predictions\n",
        "y_pred = xgb_model.predict(X_test)\n",
        "\n",
        "# Step 8: Evaluate the Model\n",
        "accuracy = accuracy_score(y_test, y_pred)\n",
        "confusion_mat = confusion_matrix(y_test, y_pred)\n",
        "classification_rep = classification_report(y_test, y_pred)\n",
        "\n",
        "# Print results\n",
        "print(f\"Accuracy: {accuracy}\")\n",
        "print(\"Confusion Matrix:\")\n",
        "print(confusion_mat)\n",
        "print(\"Classification Report:\")\n",
        "print(classification_rep)\n"
      ],
      "metadata": {
        "colab": {
          "base_uri": "https://localhost:8080/"
        },
        "id": "RtZrFuCNlMWm",
        "outputId": "77e7a561-e419-4df8-f491-592266adcdf7"
      },
      "execution_count": null,
      "outputs": [
        {
          "output_type": "stream",
          "name": "stdout",
          "text": [
            "Drive already mounted at /content/drive; to attempt to forcibly remount, call drive.mount(\"/content/drive\", force_remount=True).\n"
          ]
        },
        {
          "output_type": "stream",
          "name": "stderr",
          "text": [
            "/usr/local/lib/python3.10/dist-packages/xgboost/core.py:158: UserWarning: [12:51:11] WARNING: /workspace/src/learner.cc:740: \n",
            "Parameters: { \"use_label_encoder\" } are not used.\n",
            "\n",
            "  warnings.warn(smsg, UserWarning)\n"
          ]
        },
        {
          "output_type": "stream",
          "name": "stdout",
          "text": [
            "Accuracy: 0.999\n",
            "Confusion Matrix:\n",
            "[[1606    1]\n",
            " [   1  392]]\n",
            "Classification Report:\n",
            "              precision    recall  f1-score   support\n",
            "\n",
            "           0       1.00      1.00      1.00      1607\n",
            "           1       1.00      1.00      1.00       393\n",
            "\n",
            "    accuracy                           1.00      2000\n",
            "   macro avg       1.00      1.00      1.00      2000\n",
            "weighted avg       1.00      1.00      1.00      2000\n",
            "\n"
          ]
        }
      ]
    },
    {
      "cell_type": "markdown",
      "source": [
        "K-Nearest Neighbors (KNN)"
      ],
      "metadata": {
        "id": "xD0cQnCblXjf"
      }
    },
    {
      "cell_type": "code",
      "source": [
        "# Step 1: Import necessary libraries\n",
        "import pandas as pd\n",
        "from sklearn.model_selection import train_test_split\n",
        "from sklearn.neighbors import KNeighborsClassifier\n",
        "from sklearn.metrics import accuracy_score, classification_report, confusion_matrix\n",
        "from google.colab import drive\n",
        "\n",
        "# Step 2: Mount Google Drive\n",
        "drive.mount('/content/drive')\n",
        "\n",
        "# Step 3: Load the dataset\n",
        "data = pd.read_csv('/content/drive/My Drive/Customer-Churn-Records.csv')\n",
        "\n",
        "# Step 4: Data Preparation\n",
        "# Drop unnecessary columns\n",
        "data = data.drop([\"RowNumber\", \"CustomerId\", \"Surname\", \"Geography\", \"Gender\", \"Card Type\"], axis=1)\n",
        "\n",
        "# Step 5: Data Splitting\n",
        "X = data.drop('Exited', axis=1)  # Features\n",
        "y = data['Exited']  # Target variable (Churn status)\n",
        "\n",
        "X_train, X_test, y_train, y_test = train_test_split(X, y, test_size=0.2, random_state=42)\n",
        "\n",
        "# Step 6: Create the KNN Model\n",
        "knn_model = KNeighborsClassifier(n_neighbors=5)  # You can adjust n_neighbors\n",
        "\n",
        "# Fit the model on the training data\n",
        "knn_model.fit(X_train, y_train)\n",
        "\n",
        "# Step 7: Make Predictions\n",
        "y_pred = knn_model.predict(X_test)\n",
        "\n",
        "# Step 8: Evaluate the Model\n",
        "accuracy = accuracy_score(y_test, y_pred)\n",
        "confusion_mat = confusion_matrix(y_test, y_pred)\n",
        "classification_rep = classification_report(y_test, y_pred)\n",
        "\n",
        "# Print results\n",
        "print(f\"Accuracy: {accuracy}\")\n",
        "print(\"Confusion Matrix:\")\n",
        "print(confusion_mat)\n",
        "print(\"Classification Report:\")\n",
        "print(classification_rep)\n"
      ],
      "metadata": {
        "colab": {
          "base_uri": "https://localhost:8080/"
        },
        "id": "hy3Rmk_DlYw-",
        "outputId": "7afb1afc-d566-42ed-a6c1-87bf1c793775"
      },
      "execution_count": null,
      "outputs": [
        {
          "output_type": "stream",
          "name": "stdout",
          "text": [
            "Drive already mounted at /content/drive; to attempt to forcibly remount, call drive.mount(\"/content/drive\", force_remount=True).\n",
            "Accuracy: 0.765\n",
            "Confusion Matrix:\n",
            "[[1494  113]\n",
            " [ 357   36]]\n",
            "Classification Report:\n",
            "              precision    recall  f1-score   support\n",
            "\n",
            "           0       0.81      0.93      0.86      1607\n",
            "           1       0.24      0.09      0.13       393\n",
            "\n",
            "    accuracy                           0.77      2000\n",
            "   macro avg       0.52      0.51      0.50      2000\n",
            "weighted avg       0.70      0.77      0.72      2000\n",
            "\n"
          ]
        }
      ]
    },
    {
      "cell_type": "markdown",
      "source": [
        "Random Forest Classifier: Accuracy: 0.999\n",
        "\n",
        "Support Vector Machine (SVM): Accuracy: 0.797\n",
        "\n",
        "Decision Tree Classifier: Accuracy: 0.9985\n",
        "\n",
        "Logistic Regression: Accuracy: 0.9985\n",
        "\n",
        "XGBoost: Accuracy: 0.999\n",
        "\n",
        "K-Nearest Neighbors (KNN): Accuracy: 0.765"
      ],
      "metadata": {
        "id": "ArEPNA4SCU26"
      }
    },
    {
      "cell_type": "code",
      "source": [
        "import matplotlib.pyplot as plt\n",
        "\n",
        "# Classifiers and their accuracies\n",
        "classifiers = [\n",
        "    'Random Forest',\n",
        "    'XGBoost',\n",
        "    'Decision Tree',\n",
        "    'Logistic Regression',\n",
        "    'SVM',\n",
        "]\n",
        "accuracies = [0.999, 0.999, 0.9985, 0.9985, 0.797]\n",
        "\n",
        "# Create a bar graph\n",
        "plt.figure(figsize=(10, 6))\n",
        "plt.bar(classifiers, accuracies, color=['blue', 'green', 'orange', 'red', 'purple'])\n",
        "plt.ylim(0, 1)  # Set y-axis limits from 0 to 1\n",
        "plt.title('Classifier Accuracies')\n",
        "plt.xlabel('Classifiers')\n",
        "plt.ylabel('Accuracy')\n",
        "plt.grid(axis='y')\n",
        "plt.show()\n"
      ],
      "metadata": {
        "colab": {
          "base_uri": "https://localhost:8080/",
          "height": 564
        },
        "id": "whUF5OGyUsus",
        "outputId": "a8531c10-073a-4975-e57b-1c089b09e1f7"
      },
      "execution_count": null,
      "outputs": [
        {
          "output_type": "display_data",
          "data": {
            "text/plain": [
              "<Figure size 1000x600 with 1 Axes>"
            ],
            "image/png": "[encoded data removed]"
          },
          "metadata": {}
        }
      ]
    },
    {
      "cell_type": "code",
      "source": [
        "import matplotlib.pyplot as plt\n",
        "\n",
        "# Classifiers and their accuracies in the desired order\n",
        "classifiers = [\n",
        "    'Random Forest',\n",
        "    'SVM',\n",
        "    'Decision Tree',\n",
        "    'Logistic Regression',\n",
        "    'XGBoost',  # XGBoost moved to the extreme right\n",
        "]\n",
        "\n",
        "accuracies = [0.999, 0.797, 0.9985, 0.9985, 0.999]\n",
        "\n",
        "# Create a bar graph\n",
        "plt.figure(figsize=(10, 6))\n",
        "bars = plt.bar(classifiers, accuracies, color=['blue', 'purple', 'orange', 'red', 'green'])\n",
        "plt.ylim(0, 1)  # Set y-axis limits from 0 to 1\n",
        "plt.xlabel('Classifiers')\n",
        "plt.ylabel('Accuracy')\n",
        "\n",
        "# Add accuracy values on top of the bars\n",
        "for bar in bars:\n",
        "    yval = bar.get_height()  # Get the height of each bar (i.e., accuracy value)\n",
        "    plt.text(bar.get_x() + bar.get_width() / 2, yval + 0.005, round(yval, 4), ha='center', va='bottom', fontsize=12)\n",
        "\n",
        "plt.grid(axis='y')\n",
        "plt.show()\n"
      ],
      "metadata": {
        "colab": {
          "base_uri": "https://localhost:8080/",
          "height": 562
        },
        "id": "XPs-FdEHkL6t",
        "outputId": "e628c4ba-b435-4365-d059-233aa798ebe1"
      },
      "execution_count": null,
      "outputs": [
        {
          "output_type": "display_data",
          "data": {
            "text/plain": [
              "<Figure size 1000x600 with 1 Axes>"
            ],
            "image/png": "[encoded data removed]"
          },
          "metadata": {}
        }
      ]
    }
  ]
}